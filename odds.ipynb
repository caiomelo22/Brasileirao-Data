{
 "cells": [
  {
   "cell_type": "code",
   "execution_count": 34,
   "metadata": {},
   "outputs": [],
   "source": [
    "from webdriver_manager.chrome import ChromeDriverManager\n",
    "from bs4 import BeautifulSoup as soup\n",
    "from selenium.webdriver.chrome.options import Options\n",
    "from selenium import webdriver\n",
    "import pandas as pd\n",
    "import time\n",
    "from datetime import datetime, timedelta\n",
    "import time\n",
    "from IPython.display import clear_output\n",
    "from config import conn_host, conn_database, conn_user, conn_password\n",
    "import mysql.connector\n",
    "from dateutil import tz"
   ]
  },
  {
   "cell_type": "code",
   "execution_count": 35,
   "metadata": {},
   "outputs": [],
   "source": [
    "months = dict(Jan=1,Feb=2,Mar=3,Apr=4,May=5,Jun=6,Jul=7,Aug=8,Sep=9,Oct=10,Nov=11,Dec=12)\n",
    "\n",
    "# If you want to change the league, browse through the odds portal website to find the correct url parameters for you\n",
    "country = \"germany\"\n",
    "league = \"bundesliga\""
   ]
  },
  {
   "cell_type": "code",
   "execution_count": 36,
   "metadata": {},
   "outputs": [],
   "source": [
    "def connect_to_db():\n",
    "    return mysql.connector.connect(host=conn_host, \n",
    "                                     database=conn_database,\n",
    "                                     user=conn_user,\n",
    "                                     password=conn_password)\n",
    "\n",
    "def execute_query(query, read_only = True):\n",
    "    resp = None\n",
    "    try:\n",
    "        db = connect_to_db()\n",
    "        if read_only:\n",
    "            resp = pd.read_sql_query(query, db)\n",
    "        else:\n",
    "            mycursor = db.cursor()\n",
    "            mycursor.execute(query)\n",
    "\n",
    "            db.commit()\n",
    "    except Exception as e:\n",
    "        print(e)\n",
    "    db.close()\n",
    "    return resp"
   ]
  },
  {
   "cell_type": "code",
   "execution_count": 37,
   "metadata": {},
   "outputs": [
    {
     "name": "stdout",
     "output_type": "stream",
     "text": [
      "Execution failed on sql 'ALTER TABLE matches ADD home_odds FLOAT NULL,ADD away_odds FLOAT NULL,ADD draw_odds FLOAT NULL;': 1060 (42S21): Duplicate column name 'home_odds'\n"
     ]
    },
    {
     "name": "stderr",
     "output_type": "stream",
     "text": [
      "C:\\Users\\caiog\\anaconda3\\lib\\site-packages\\pandas\\io\\sql.py:761: UserWarning: pandas only support SQLAlchemy connectable(engine/connection) ordatabase string URI or sqlite3 DBAPI2 connectionother DBAPI2 objects are not tested, please consider using SQLAlchemy\n",
      "  warnings.warn(\n"
     ]
    }
   ],
   "source": [
    "execute_query(\"ALTER TABLE matches \" +\n",
    "              \"ADD home_odds FLOAT NULL,\" +\n",
    "              \"ADD away_odds FLOAT NULL,\" +\n",
    "              \"ADD draw_odds FLOAT NULL;\")"
   ]
  },
  {
   "cell_type": "code",
   "execution_count": 38,
   "metadata": {},
   "outputs": [],
   "source": [
    "teams = execute_query(\"SELECT * FROM teams\")"
   ]
  },
  {
   "cell_type": "code",
   "execution_count": 39,
   "metadata": {
    "scrolled": true
   },
   "outputs": [
    {
     "name": "stdout",
     "output_type": "stream",
     "text": [
      "      id            name\n",
      "0     33  Manchester Utd\n",
      "1     34       Newcastle\n",
      "2     35     Bournemouth\n",
      "3     36          Fulham\n",
      "4     37    Huddersfield\n",
      "..   ...             ...\n",
      "95   794      Bragantino\n",
      "96   795       Joinville\n",
      "97  1062     Atletico-MG\n",
      "98  1193          Cuiaba\n",
      "99  1214      Portuguesa\n",
      "\n",
      "[100 rows x 2 columns]\n"
     ]
    }
   ],
   "source": [
    "print(teams)"
   ]
  },
  {
   "cell_type": "code",
   "execution_count": 40,
   "metadata": {},
   "outputs": [],
   "source": [
    "def get_betting_odds(season):\n",
    "    from_zone = tz.gettz('UTC')\n",
    "    to_zone = tz.gettz('America/Sao_Paulo')\n",
    "    base_url = f\"https://www.oddsportal.com/soccer/{country}/{league}{season}/results/\"\n",
    "    option = Options()\n",
    "#     option.headless = True\n",
    "    driver = webdriver.Chrome(ChromeDriverManager().install(), options=option)\n",
    "    driver.get(base_url)\n",
    "    time.sleep(5)\n",
    "    \n",
    "    try:\n",
    "        button = driver.find_element(\"xpath\", '/html/body/div[3]/div[3]/div/div[1]/div/div[2]/div/button[1]')\n",
    "        button.click()\n",
    "    except:\n",
    "        print('A problem occoured while trying to close the cookies popup')\n",
    "        \n",
    "    button = driver.find_element(\"xpath\", '/html/body/div[1]/div/div[2]/div[6]/div[1]/div/div[1]/div[2]/div[1]/div[6]/div/a[last()]')\n",
    "    button.click()\n",
    "    time.sleep(2)\n",
    "    \n",
    "    element = driver.find_element('id', \"tournamentTable\")\n",
    "    htmlContent = element.get_attribute('outerHTML')\n",
    "    page_soup = soup(htmlContent, \"html.parser\")\n",
    "    active_page = int(''.join(page_soup.find('span', {\"class\": \"active-page\"}).findAll(text=True)))\n",
    "    print('{}: Page {}'.format(season[1:], active_page))\n",
    "    \n",
    "    games = []\n",
    "    \n",
    "    while int(active_page) >= 1:\n",
    "        dates = page_soup.findAll('tr', {\"class\": \"center nob-border\"})\n",
    "        games_registered = 0\n",
    "        \n",
    "        for i in range(len(dates), 0, -1):\n",
    "            try:\n",
    "                if len(dates) == i:\n",
    "                    date_games = dates[i-1].find_next_siblings('tr', {\"class\": \"deactivate\"})\n",
    "                else:\n",
    "                    date_games = dates[i-1].find_next_siblings('tr', {\"class\": \"deactivate\"})[:-1*games_registered]\n",
    "                games_registered += len(date_games)\n",
    "                date_info_splitted = dates[i-1].contents[0].text.split('-')\n",
    "                if len(date_info_splitted) > 1:\n",
    "                    continue\n",
    "                date_text = date_info_splitted[0].strip()\n",
    "                for g in date_games:\n",
    "                    try:\n",
    "                        unix_date = datetime(int(date_text.split(' ')[2]), \n",
    "                                                        months[date_text.split(' ')[1]], \n",
    "                                                        int(date_text.split(' ')[0]), \n",
    "                                                        hour=int(g.contents[0].text.strip().split(':')[0]), \n",
    "                                                        minute=int(g.contents[0].text.strip().split(':')[1]), \n",
    "                                                        second=0).replace(tzinfo=from_zone).astimezone(to_zone)\n",
    "                        home_team_string = g.contents[1].text.split(' - ')[0].strip()\n",
    "                        away_team_string = g.contents[1].text.split(' - ')[1].strip()\n",
    "                        home_team = teams.loc[teams['name'] == home_team_string].iloc[0]\n",
    "                        away_team = teams.loc[teams['name'] == away_team_string].iloc[0]\n",
    "                        games_parsed = [unix_date,\n",
    "                                          home_team['id'], # Home Team Id\n",
    "                                          away_team['id'], # Away Team Id\n",
    "                                          home_team['name'], # Team A Name\n",
    "                                          away_team['name'], # Team B Name\n",
    "                                          g.contents[2].text.split(':')[0].strip(), # Team A Score\n",
    "                                          g.contents[2].text.split(':')[1].replace('OT', '').strip(), # Team B Score\n",
    "                                          g.contents[3].text,  # Team A Odds\n",
    "                                          g.contents[4].text,  # Draw Odds\n",
    "                                          g.contents[5].text]  # Team B Odds\n",
    "                        games.append(games_parsed)\n",
    "                    except:\n",
    "                        continue\n",
    "                # print('{} Games appended'.format(len(games_parsed)))\n",
    "            except Exception as e:\n",
    "                print(e)\n",
    "                continue\n",
    "        \n",
    "        btn_next_page = driver.find_element(\"xpath\", '/html/body/div[1]/div/div[2]/div[6]/div[1]/div/div[1]/div[2]/div[1]/div[6]/div/a[2]')\n",
    "        btn_next_page.click()\n",
    "        time.sleep(4)\n",
    "        \n",
    "        element = driver.find_element('id', \"tournamentTable\")\n",
    "        htmlContent = element.get_attribute('outerHTML')\n",
    "        page_soup = soup(htmlContent, \"html.parser\")\n",
    "        active_page -= 1\n",
    "        clear_output(wait=True)\n",
    "        print('{}: Page {}'.format(season[1:], active_page))\n",
    "    \n",
    "    driver.quit()\n",
    "    return games\n",
    "    "
   ]
  },
  {
   "cell_type": "code",
   "execution_count": 47,
   "metadata": {},
   "outputs": [
    {
     "name": "stdout",
     "output_type": "stream",
     "text": [
      "2021-2022: Page 0\n",
      "3060\n"
     ]
    }
   ],
   "source": [
    "season = 2012\n",
    "games = []\n",
    "while season < 2022:\n",
    "    games.extend(get_betting_odds(f'-{season}-{season+1}'))\n",
    "    season += 1\n",
    "\n",
    "# games.extend(get_betting_odds('')) # For the current season\n",
    "\n",
    "odds_df = pd.DataFrame(games, columns=['GAME_DATE', 'TEAM_A_ID', 'TEAM_B_ID', 'TEAM_A', 'TEAM_B', 'TEAM_A_SCORE', 'TEAM_B_SCORE', 'TEAM_A_ODDS', 'DRAW_ODDS', 'TEAM_B_ODDS'])\n",
    "# odds_df.to_csv('../data/odds.csv')\n",
    "print(len(games))"
   ]
  },
  {
   "cell_type": "code",
   "execution_count": 48,
   "metadata": {},
   "outputs": [
    {
     "data": {
      "text/html": [
       "<div>\n",
       "<style scoped>\n",
       "    .dataframe tbody tr th:only-of-type {\n",
       "        vertical-align: middle;\n",
       "    }\n",
       "\n",
       "    .dataframe tbody tr th {\n",
       "        vertical-align: top;\n",
       "    }\n",
       "\n",
       "    .dataframe thead th {\n",
       "        text-align: right;\n",
       "    }\n",
       "</style>\n",
       "<table border=\"1\" class=\"dataframe\">\n",
       "  <thead>\n",
       "    <tr style=\"text-align: right;\">\n",
       "      <th></th>\n",
       "      <th>GAME_DATE</th>\n",
       "      <th>TEAM_A_ID</th>\n",
       "      <th>TEAM_B_ID</th>\n",
       "      <th>TEAM_A</th>\n",
       "      <th>TEAM_B</th>\n",
       "      <th>TEAM_A_SCORE</th>\n",
       "      <th>TEAM_B_SCORE</th>\n",
       "      <th>TEAM_A_ODDS</th>\n",
       "      <th>DRAW_ODDS</th>\n",
       "      <th>TEAM_B_ODDS</th>\n",
       "    </tr>\n",
       "  </thead>\n",
       "  <tbody>\n",
       "    <tr>\n",
       "      <th>0</th>\n",
       "      <td>2012-08-24 15:30:00-03:00</td>\n",
       "      <td>165</td>\n",
       "      <td>162</td>\n",
       "      <td>Dortmund</td>\n",
       "      <td>Werder Bremen</td>\n",
       "      <td>2</td>\n",
       "      <td>1</td>\n",
       "      <td>1.27</td>\n",
       "      <td>5.86</td>\n",
       "      <td>10.17</td>\n",
       "    </tr>\n",
       "    <tr>\n",
       "      <th>1</th>\n",
       "      <td>2012-08-25 15:45:00-03:00</td>\n",
       "      <td>172</td>\n",
       "      <td>161</td>\n",
       "      <td>Stuttgart</td>\n",
       "      <td>Wolfsburg</td>\n",
       "      <td>0</td>\n",
       "      <td>1</td>\n",
       "      <td>1.96</td>\n",
       "      <td>3.58</td>\n",
       "      <td>3.76</td>\n",
       "    </tr>\n",
       "    <tr>\n",
       "      <th>2</th>\n",
       "      <td>2012-08-25 13:30:00-03:00</td>\n",
       "      <td>169</td>\n",
       "      <td>168</td>\n",
       "      <td>Eintracht Frankfurt</td>\n",
       "      <td>Bayer Leverkusen</td>\n",
       "      <td>2</td>\n",
       "      <td>1</td>\n",
       "      <td>2.91</td>\n",
       "      <td>3.42</td>\n",
       "      <td>2.38</td>\n",
       "    </tr>\n",
       "    <tr>\n",
       "      <th>3</th>\n",
       "      <td>2012-08-25 10:30:00-03:00</td>\n",
       "      <td>170</td>\n",
       "      <td>158</td>\n",
       "      <td>Augsburg</td>\n",
       "      <td>Dusseldorf</td>\n",
       "      <td>0</td>\n",
       "      <td>2</td>\n",
       "      <td>2.00</td>\n",
       "      <td>3.39</td>\n",
       "      <td>3.83</td>\n",
       "    </tr>\n",
       "    <tr>\n",
       "      <th>4</th>\n",
       "      <td>2012-08-25 10:30:00-03:00</td>\n",
       "      <td>163</td>\n",
       "      <td>167</td>\n",
       "      <td>B. Monchengladbach</td>\n",
       "      <td>Hoffenheim</td>\n",
       "      <td>2</td>\n",
       "      <td>1</td>\n",
       "      <td>1.96</td>\n",
       "      <td>3.44</td>\n",
       "      <td>3.91</td>\n",
       "    </tr>\n",
       "  </tbody>\n",
       "</table>\n",
       "</div>"
      ],
      "text/plain": [
       "                  GAME_DATE  TEAM_A_ID  TEAM_B_ID               TEAM_A  \\\n",
       "0 2012-08-24 15:30:00-03:00        165        162             Dortmund   \n",
       "1 2012-08-25 15:45:00-03:00        172        161            Stuttgart   \n",
       "2 2012-08-25 13:30:00-03:00        169        168  Eintracht Frankfurt   \n",
       "3 2012-08-25 10:30:00-03:00        170        158             Augsburg   \n",
       "4 2012-08-25 10:30:00-03:00        163        167   B. Monchengladbach   \n",
       "\n",
       "             TEAM_B TEAM_A_SCORE TEAM_B_SCORE TEAM_A_ODDS DRAW_ODDS  \\\n",
       "0     Werder Bremen            2            1        1.27      5.86   \n",
       "1         Wolfsburg            0            1        1.96      3.58   \n",
       "2  Bayer Leverkusen            2            1        2.91      3.42   \n",
       "3        Dusseldorf            0            2        2.00      3.39   \n",
       "4        Hoffenheim            2            1        1.96      3.44   \n",
       "\n",
       "  TEAM_B_ODDS  \n",
       "0       10.17  \n",
       "1        3.76  \n",
       "2        2.38  \n",
       "3        3.83  \n",
       "4        3.91  "
      ]
     },
     "execution_count": 48,
     "metadata": {},
     "output_type": "execute_result"
    }
   ],
   "source": [
    "odds_df.head()"
   ]
  },
  {
   "cell_type": "code",
   "execution_count": 49,
   "metadata": {},
   "outputs": [
    {
     "name": "stdout",
     "output_type": "stream",
     "text": [
      "3059/3060\n"
     ]
    }
   ],
   "source": [
    "game_errors = []\n",
    "for index, row in odds_df.iterrows():\n",
    "    try:\n",
    "        date_minus_one_day = row['GAME_DATE'] - timedelta(days=1)\n",
    "        date_plus_one_day = row['GAME_DATE'] + timedelta(days=1)\n",
    "        game_id = execute_query(f\"SELECT id from matches WHERE (DATE_FORMAT(date,'%d/%m/%Y') = DATE_FORMAT('{row['GAME_DATE']}','%d/%m/%Y') OR DATE_FORMAT(date,'%d/%m/%Y') = DATE_FORMAT('{date_minus_one_day}','%d/%m/%Y') OR DATE_FORMAT(date,'%d/%m/%Y') = DATE_FORMAT('{date_plus_one_day}','%d/%m/%Y')) AND home_id = {row['TEAM_A_ID']} AND away_id = {row['TEAM_B_ID']}\").iloc[0]['id']\n",
    "        update_query = f\"UPDATE matches SET home_odds = {row['TEAM_A_ODDS']}, away_odds = {row['TEAM_B_ODDS']}, draw_odds = {row['DRAW_ODDS']} WHERE id = {game_id}\"\n",
    "        execute_query(update_query, False)\n",
    "    except Exception as e:\n",
    "        new_item = dict()\n",
    "        new_item['error'] = e\n",
    "        new_item['match'] = row\n",
    "        game_errors.append(new_item)\n",
    "    clear_output(wait=True)\n",
    "    print(f\"{index}/{len(odds_df.index)}\")"
   ]
  },
  {
   "cell_type": "code",
   "execution_count": 50,
   "metadata": {},
   "outputs": [
    {
     "name": "stdout",
     "output_type": "stream",
     "text": [
      "There were no errors while reading games from the Odds Portal website.\n"
     ]
    }
   ],
   "source": [
    "if len(game_errors) == 0:\n",
    "    print('There were no errors while reading games from the Odds Portal website.')\n",
    "else:\n",
    "    print('The following games had an error while trying to read games from the Odds Portal website:')\n",
    "    for item in game_errors:\n",
    "        print(f\"\\n{item['match']['GAME_DATE']}: {item['match']['TEAM_A']}({item['match']['TEAM_A_ID']}) {item['match']['TEAM_A_SCORE']} x {item['match']['TEAM_B_SCORE']} {item['match']['TEAM_B']}({item['match']['TEAM_B_ID']})\")\n",
    "        print(f\"ERROR: {item['error']}\")"
   ]
  },
  {
   "cell_type": "code",
   "execution_count": 51,
   "metadata": {},
   "outputs": [
    {
     "name": "stderr",
     "output_type": "stream",
     "text": [
      "C:\\Users\\caiog\\anaconda3\\lib\\site-packages\\pandas\\io\\sql.py:761: UserWarning: pandas only support SQLAlchemy connectable(engine/connection) ordatabase string URI or sqlite3 DBAPI2 connectionother DBAPI2 objects are not tested, please consider using SQLAlchemy\n",
      "  warnings.warn(\n"
     ]
    }
   ],
   "source": [
    "fixtures_df = execute_query(f\"SELECT m.id, m.date, m.season, l.name AS league, ht.name as home_team, at.name as away_team, m.home_score, m.away_score, m.home_odds, m.away_odds, m.draw_odds FROM matches AS m INNER JOIN teams AS ht ON (m.home_id = ht.id) INNER JOIN teams AS at ON (m.away_id = at.id) INNER JOIN leagues AS l ON (m.league_id = l.id) WHERE m.season = 2021 ORDER BY m.date ASC\")"
   ]
  },
  {
   "cell_type": "code",
   "execution_count": 52,
   "metadata": {},
   "outputs": [
    {
     "data": {
      "text/html": [
       "<div>\n",
       "<style scoped>\n",
       "    .dataframe tbody tr th:only-of-type {\n",
       "        vertical-align: middle;\n",
       "    }\n",
       "\n",
       "    .dataframe tbody tr th {\n",
       "        vertical-align: top;\n",
       "    }\n",
       "\n",
       "    .dataframe thead th {\n",
       "        text-align: right;\n",
       "    }\n",
       "</style>\n",
       "<table border=\"1\" class=\"dataframe\">\n",
       "  <thead>\n",
       "    <tr style=\"text-align: right;\">\n",
       "      <th></th>\n",
       "      <th>id</th>\n",
       "      <th>date</th>\n",
       "      <th>season</th>\n",
       "      <th>league</th>\n",
       "      <th>home_team</th>\n",
       "      <th>away_team</th>\n",
       "      <th>home_score</th>\n",
       "      <th>away_score</th>\n",
       "      <th>home_odds</th>\n",
       "      <th>away_odds</th>\n",
       "      <th>draw_odds</th>\n",
       "    </tr>\n",
       "  </thead>\n",
       "  <tbody>\n",
       "    <tr>\n",
       "      <th>0</th>\n",
       "      <td>688918</td>\n",
       "      <td>2021-05-29 19:00:00</td>\n",
       "      <td>2021</td>\n",
       "      <td>Serie A (Brazil)</td>\n",
       "      <td>Cuiaba</td>\n",
       "      <td>Juventude</td>\n",
       "      <td>2</td>\n",
       "      <td>2</td>\n",
       "      <td>2.22</td>\n",
       "      <td>3.52</td>\n",
       "      <td>3.11</td>\n",
       "    </tr>\n",
       "    <tr>\n",
       "      <th>1</th>\n",
       "      <td>688915</td>\n",
       "      <td>2021-05-29 20:00:00</td>\n",
       "      <td>2021</td>\n",
       "      <td>Serie A (Brazil)</td>\n",
       "      <td>Bahia</td>\n",
       "      <td>Santos</td>\n",
       "      <td>3</td>\n",
       "      <td>0</td>\n",
       "      <td>2.37</td>\n",
       "      <td>3.12</td>\n",
       "      <td>3.20</td>\n",
       "    </tr>\n",
       "    <tr>\n",
       "      <th>2</th>\n",
       "      <td>688911</td>\n",
       "      <td>2021-05-29 21:00:00</td>\n",
       "      <td>2021</td>\n",
       "      <td>Serie A (Brazil)</td>\n",
       "      <td>Sao Paulo</td>\n",
       "      <td>Fluminense</td>\n",
       "      <td>0</td>\n",
       "      <td>0</td>\n",
       "      <td>1.91</td>\n",
       "      <td>4.62</td>\n",
       "      <td>3.18</td>\n",
       "    </tr>\n",
       "    <tr>\n",
       "      <th>3</th>\n",
       "      <td>688912</td>\n",
       "      <td>2021-05-30 11:00:00</td>\n",
       "      <td>2021</td>\n",
       "      <td>Serie A (Brazil)</td>\n",
       "      <td>Atletico-MG</td>\n",
       "      <td>Fortaleza</td>\n",
       "      <td>1</td>\n",
       "      <td>2</td>\n",
       "      <td>1.48</td>\n",
       "      <td>6.93</td>\n",
       "      <td>4.19</td>\n",
       "    </tr>\n",
       "    <tr>\n",
       "      <th>4</th>\n",
       "      <td>688909</td>\n",
       "      <td>2021-05-30 16:00:00</td>\n",
       "      <td>2021</td>\n",
       "      <td>Serie A (Brazil)</td>\n",
       "      <td>Flamengo RJ</td>\n",
       "      <td>Palmeiras</td>\n",
       "      <td>1</td>\n",
       "      <td>0</td>\n",
       "      <td>1.82</td>\n",
       "      <td>4.38</td>\n",
       "      <td>3.57</td>\n",
       "    </tr>\n",
       "  </tbody>\n",
       "</table>\n",
       "</div>"
      ],
      "text/plain": [
       "       id                date  season            league    home_team  \\\n",
       "0  688918 2021-05-29 19:00:00    2021  Serie A (Brazil)       Cuiaba   \n",
       "1  688915 2021-05-29 20:00:00    2021  Serie A (Brazil)        Bahia   \n",
       "2  688911 2021-05-29 21:00:00    2021  Serie A (Brazil)    Sao Paulo   \n",
       "3  688912 2021-05-30 11:00:00    2021  Serie A (Brazil)  Atletico-MG   \n",
       "4  688909 2021-05-30 16:00:00    2021  Serie A (Brazil)  Flamengo RJ   \n",
       "\n",
       "    away_team  home_score  away_score  home_odds  away_odds  draw_odds  \n",
       "0   Juventude           2           2       2.22       3.52       3.11  \n",
       "1      Santos           3           0       2.37       3.12       3.20  \n",
       "2  Fluminense           0           0       1.91       4.62       3.18  \n",
       "3   Fortaleza           1           2       1.48       6.93       4.19  \n",
       "4   Palmeiras           1           0       1.82       4.38       3.57  "
      ]
     },
     "execution_count": 52,
     "metadata": {},
     "output_type": "execute_result"
    }
   ],
   "source": [
    "fixtures_df.head()"
   ]
  }
 ],
 "metadata": {
  "kernelspec": {
   "display_name": "Python 3 (ipykernel)",
   "language": "python",
   "name": "python3"
  },
  "language_info": {
   "codemirror_mode": {
    "name": "ipython",
    "version": 3
   },
   "file_extension": ".py",
   "mimetype": "text/x-python",
   "name": "python",
   "nbconvert_exporter": "python",
   "pygments_lexer": "ipython3",
   "version": "3.9.12"
  }
 },
 "nbformat": 4,
 "nbformat_minor": 4
}
