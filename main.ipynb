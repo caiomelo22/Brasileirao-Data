{
 "cells": [
  {
   "cell_type": "code",
   "execution_count": 1,
   "metadata": {},
   "outputs": [],
   "source": [
    "import requests\n",
    "import json\n",
    "import time\n",
    "import pandas as pd\n",
    "import mysql.connector\n",
    "from IPython.display import clear_output\n",
    "from datetime import datetime\n",
    "from config import api_football_key, conn_host, conn_database, conn_user, conn_password"
   ]
  },
  {
   "cell_type": "code",
   "execution_count": 2,
   "metadata": {},
   "outputs": [],
   "source": [
    "league_id = 71 # BR League\n",
    "start_season = 2012\n",
    "end_season = 2023\n",
    "\n",
    "now = time.time()"
   ]
  },
  {
   "cell_type": "code",
   "execution_count": 3,
   "metadata": {},
   "outputs": [],
   "source": [
    "def connect_to_db():\n",
    "    return mysql.connector.connect(host=conn_host, \n",
    "                                     database=conn_database,\n",
    "                                     user=conn_user,\n",
    "                                     password=conn_password)\n",
    "\n",
    "def execute_query(query, read_only = True):\n",
    "    resp = None\n",
    "    try:\n",
    "        db = connect_to_db()\n",
    "        if read_only:\n",
    "            resp = pd.read_sql_query(query, db)\n",
    "        else:\n",
    "            mycursor = db.cursor()\n",
    "            mycursor.execute(query)\n",
    "\n",
    "            db.commit()\n",
    "    except Exception as e:\n",
    "        print(e)\n",
    "    db.close()\n",
    "    return resp"
   ]
  },
  {
   "cell_type": "code",
   "execution_count": 17,
   "metadata": {},
   "outputs": [],
   "source": [
    "# Table creation queries\n",
    "execute_query(\"CREATE TABLE IF NOT EXISTS leagues (id INT NOT NULL, name VARCHAR(50) NOT NULL, PRIMARY KEY (id))\", False)\n",
    "execute_query(\"CREATE TABLE IF NOT EXISTS teams (id INT NOT NULL, name VARCHAR(50) NOT NULL, PRIMARY KEY (id))\", False)\n",
    "execute_query(\"CREATE TABLE IF NOT EXISTS matches (id INT NOT NULL, date DATETIME NOT NULL, league_id INT NOT NULL, season INT NOT NULL, home_id INT NOT NULL, away_id INT NOT NULL, home_score INT NULL, away_score INT NULL, PRIMARY KEY (id), FOREIGN KEY(home_id) REFERENCES teams (id), FOREIGN KEY(away_id) REFERENCES teams (id), FOREIGN KEY(league_id) REFERENCES leagues (id))\", False)"
   ]
  },
  {
   "cell_type": "code",
   "execution_count": 5,
   "metadata": {},
   "outputs": [],
   "source": [
    "def get_league_season_fixtures(season):\n",
    "    headers = {\n",
    "        'X-RapidAPI-Key': api_football_key,\n",
    "        'X-RapidAPI-Host': 'api-football-v1.p.rapidapi.com'\n",
    "    }\n",
    "    response = requests.get(f\"https://api-football-v1.p.rapidapi.com/v3/fixtures?league={league_id}&season={season}\", headers=headers)\n",
    "    response_parsed = json.loads(response.text)\n",
    "    return [fixture for fixture in response_parsed['response'] if fixture['fixture']['timestamp'] < now]"
   ]
  },
  {
   "cell_type": "code",
   "execution_count": 18,
   "metadata": {},
   "outputs": [],
   "source": [
    "def add_match_info_to_db(fixture):\n",
    "    fixture_id, league_id, league_name, fixture_date, season, home_id, home_name, away_id, away_name, home_score, away_score = fixture['fixture']['id'], fixture['league']['id'], f\"{fixture['league']['name']} ({fixture['league']['country']})\", fixture['fixture']['timestamp'], fixture['league']['season'], fixture['teams']['home']['id'], fixture['teams']['home']['name'], fixture['teams']['away']['id'], fixture['teams']['away']['name'], fixture['goals']['home'], fixture['goals']['away']\n",
    "    fixture_date_converted = datetime.fromtimestamp(fixture_date).strftime('%Y-%m-%d %H:%M:%S')\n",
    "    execute_query(f\"INSERT IGNORE INTO leagues (id, name) VALUES ({league_id}, '{league_name}')\", False)\n",
    "    execute_query(f\"INSERT IGNORE INTO teams (id, name) VALUES ({home_id}, '{home_name}')\", False)\n",
    "    execute_query(f\"INSERT IGNORE INTO teams (id, name) VALUES ({away_id}, '{away_name}')\", False)\n",
    "    execute_query(f\"INSERT IGNORE INTO matches (id, date, league_id, season, home_id, away_id, home_score, away_score) VALUES ({fixture_id}, '{fixture_date_converted}', {league_id}, {season}, {home_id}, {away_id}, '{home_score}', '{away_score}')\", False)\n",
    "#     print(f\"{fixture['teams']['home']['name']} {fixture['goals']['home']} x {fixture['goals']['away']} {fixture['teams']['away']['name']}\")"
   ]
  },
  {
   "cell_type": "code",
   "execution_count": 19,
   "metadata": {},
   "outputs": [
    {
     "name": "stdout",
     "output_type": "stream",
     "text": [
      "Loading fixtures for the 2022 season: 119/120\n"
     ]
    }
   ],
   "source": [
    "for season in range(start_season, end_season):\n",
    "    fixtures = get_league_season_fixtures(season)\n",
    "    for index, fixture in enumerate(fixtures):\n",
    "        clear_output(wait=True)\n",
    "        print(f\"Loading fixtures for the {season} season: {index}/{len(fixtures)}\")\n",
    "        add_match_info_to_db(fixture)"
   ]
  },
  {
   "cell_type": "code",
   "execution_count": 20,
   "metadata": {},
   "outputs": [],
   "source": [
    "fixtures_df = execute_query(f\"SELECT m.id, m.date, m.season, l.name AS league, ht.name as home_team, at.name as away_team, m.home_score, m.away_score FROM matches AS m INNER JOIN teams AS ht ON (m.home_id = ht.id) INNER JOIN teams AS at ON (m.away_id = at.id) INNER JOIN leagues AS l ON (m.league_id = l.id) WHERE m.season = 2020 ORDER BY m.date DESC\")"
   ]
  },
  {
   "cell_type": "code",
   "execution_count": 21,
   "metadata": {},
   "outputs": [
    {
     "data": {
      "text/html": [
       "<div>\n",
       "<style scoped>\n",
       "    .dataframe tbody tr th:only-of-type {\n",
       "        vertical-align: middle;\n",
       "    }\n",
       "\n",
       "    .dataframe tbody tr th {\n",
       "        vertical-align: top;\n",
       "    }\n",
       "\n",
       "    .dataframe thead th {\n",
       "        text-align: right;\n",
       "    }\n",
       "</style>\n",
       "<table border=\"1\" class=\"dataframe\">\n",
       "  <thead>\n",
       "    <tr style=\"text-align: right;\">\n",
       "      <th></th>\n",
       "      <th>id</th>\n",
       "      <th>date</th>\n",
       "      <th>season</th>\n",
       "      <th>league</th>\n",
       "      <th>home_team</th>\n",
       "      <th>away_team</th>\n",
       "      <th>home_score</th>\n",
       "      <th>away_score</th>\n",
       "    </tr>\n",
       "  </thead>\n",
       "  <tbody>\n",
       "    <tr>\n",
       "      <th>0</th>\n",
       "      <td>328355</td>\n",
       "      <td>2021-02-25 21:30:00</td>\n",
       "      <td>2020</td>\n",
       "      <td>Serie A (Brazil)</td>\n",
       "      <td>Sao Paulo</td>\n",
       "      <td>Flamengo</td>\n",
       "      <td>2</td>\n",
       "      <td>1</td>\n",
       "    </tr>\n",
       "    <tr>\n",
       "      <th>1</th>\n",
       "      <td>328356</td>\n",
       "      <td>2021-02-25 21:30:00</td>\n",
       "      <td>2020</td>\n",
       "      <td>Serie A (Brazil)</td>\n",
       "      <td>Ceara</td>\n",
       "      <td>Botafogo</td>\n",
       "      <td>2</td>\n",
       "      <td>1</td>\n",
       "    </tr>\n",
       "    <tr>\n",
       "      <th>2</th>\n",
       "      <td>328357</td>\n",
       "      <td>2021-02-25 21:30:00</td>\n",
       "      <td>2020</td>\n",
       "      <td>Serie A (Brazil)</td>\n",
       "      <td>Atletico-MG</td>\n",
       "      <td>Palmeiras</td>\n",
       "      <td>2</td>\n",
       "      <td>0</td>\n",
       "    </tr>\n",
       "    <tr>\n",
       "      <th>3</th>\n",
       "      <td>328358</td>\n",
       "      <td>2021-02-25 21:30:00</td>\n",
       "      <td>2020</td>\n",
       "      <td>Serie A (Brazil)</td>\n",
       "      <td>Bahia</td>\n",
       "      <td>Santos</td>\n",
       "      <td>2</td>\n",
       "      <td>0</td>\n",
       "    </tr>\n",
       "    <tr>\n",
       "      <th>4</th>\n",
       "      <td>328359</td>\n",
       "      <td>2021-02-25 21:30:00</td>\n",
       "      <td>2020</td>\n",
       "      <td>Serie A (Brazil)</td>\n",
       "      <td>Internacional</td>\n",
       "      <td>Corinthians</td>\n",
       "      <td>0</td>\n",
       "      <td>0</td>\n",
       "    </tr>\n",
       "  </tbody>\n",
       "</table>\n",
       "</div>"
      ],
      "text/plain": [
       "       id                date  season            league      home_team  \\\n",
       "0  328355 2021-02-25 21:30:00    2020  Serie A (Brazil)      Sao Paulo   \n",
       "1  328356 2021-02-25 21:30:00    2020  Serie A (Brazil)          Ceara   \n",
       "2  328357 2021-02-25 21:30:00    2020  Serie A (Brazil)    Atletico-MG   \n",
       "3  328358 2021-02-25 21:30:00    2020  Serie A (Brazil)          Bahia   \n",
       "4  328359 2021-02-25 21:30:00    2020  Serie A (Brazil)  Internacional   \n",
       "\n",
       "     away_team  home_score  away_score  \n",
       "0     Flamengo           2           1  \n",
       "1     Botafogo           2           1  \n",
       "2    Palmeiras           2           0  \n",
       "3       Santos           2           0  \n",
       "4  Corinthians           0           0  "
      ]
     },
     "execution_count": 21,
     "metadata": {},
     "output_type": "execute_result"
    }
   ],
   "source": [
    "fixtures_df.head()"
   ]
  }
 ],
 "metadata": {
  "kernelspec": {
   "display_name": "Python 3",
   "language": "python",
   "name": "python3"
  },
  "language_info": {
   "codemirror_mode": {
    "name": "ipython",
    "version": 3
   },
   "file_extension": ".py",
   "mimetype": "text/x-python",
   "name": "python",
   "nbconvert_exporter": "python",
   "pygments_lexer": "ipython3",
   "version": "3.8.5"
  }
 },
 "nbformat": 4,
 "nbformat_minor": 4
}
