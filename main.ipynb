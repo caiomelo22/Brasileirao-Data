{
 "cells": [
  {
   "cell_type": "code",
   "execution_count": 1,
   "metadata": {},
   "outputs": [],
   "source": [
    "import requests\n",
    "import json\n",
    "import time\n",
    "import pandas as pd\n",
    "import mysql.connector\n",
    "from IPython.display import clear_output\n",
    "from datetime import datetime\n",
    "from config import api_football_key, conn_host, conn_database, conn_user, conn_password"
   ]
  },
  {
   "cell_type": "code",
   "execution_count": 2,
   "metadata": {},
   "outputs": [],
   "source": [
    "league_id = 71 # BR League\n",
    "start_season = 2022\n",
    "end_season = 2023\n",
    "\n",
    "now = time.time()"
   ]
  },
  {
   "cell_type": "code",
   "execution_count": 3,
   "metadata": {},
   "outputs": [],
   "source": [
    "def connect_to_db():\n",
    "    return mysql.connector.connect(host=conn_host, \n",
    "                                     database=conn_database,\n",
    "                                     user=conn_user,\n",
    "                                     password=conn_password)\n",
    "\n",
    "def execute_query(query, read_only = True):\n",
    "    resp = None\n",
    "    try:\n",
    "        db = connect_to_db()\n",
    "        if read_only:\n",
    "            resp = pd.read_sql_query(query, db)\n",
    "        else:\n",
    "            mycursor = db.cursor()\n",
    "            mycursor.execute(query)\n",
    "\n",
    "            db.commit()\n",
    "    except Exception as e:\n",
    "        print(e)\n",
    "    db.close()\n",
    "    return resp"
   ]
  },
  {
   "cell_type": "code",
   "execution_count": 4,
   "metadata": {},
   "outputs": [],
   "source": [
    "# Table creation queries\n",
    "execute_query(\"CREATE TABLE IF NOT EXISTS leagues (id INT NOT NULL, name VARCHAR(50) NOT NULL, PRIMARY KEY (id))\", False)\n",
    "execute_query(\"CREATE TABLE IF NOT EXISTS teams (id INT NOT NULL, name VARCHAR(50) NOT NULL, PRIMARY KEY (id))\", False)\n",
    "execute_query(\"CREATE TABLE IF NOT EXISTS matches (id INT NOT NULL, date DATETIME NOT NULL, league_id INT NOT NULL, season INT NOT NULL, home_id INT NOT NULL, away_id INT NOT NULL, home_score INT NULL, away_score INT NULL, PRIMARY KEY (id), FOREIGN KEY(home_id) REFERENCES teams (id), FOREIGN KEY(away_id) REFERENCES teams (id), FOREIGN KEY(league_id) REFERENCES leagues (id))\", False)"
   ]
  },
  {
   "cell_type": "code",
   "execution_count": 5,
   "metadata": {},
   "outputs": [],
   "source": [
    "def get_league_season_fixtures(season):\n",
    "    headers = {\n",
    "        'X-RapidAPI-Key': api_football_key,\n",
    "        'X-RapidAPI-Host': 'api-football-v1.p.rapidapi.com'\n",
    "    }\n",
    "    response = requests.get(f\"https://api-football-v1.p.rapidapi.com/v3/fixtures?league={league_id}&season={season}\", headers=headers)\n",
    "    response_parsed = json.loads(response.text)\n",
    "    return [fixture for fixture in response_parsed['response'] if fixture['fixture']['timestamp'] < now]"
   ]
  },
  {
   "cell_type": "code",
   "execution_count": 6,
   "metadata": {},
   "outputs": [],
   "source": [
    "def add_match_info_to_db(fixture):\n",
    "    fixture_id, league_id, league_name, fixture_date, season, home_id, home_name, away_id, away_name, home_score, away_score = fixture['fixture']['id'], fixture['league']['id'], f\"{fixture['league']['name']} ({fixture['league']['country']})\", fixture['fixture']['timestamp'], fixture['league']['season'], fixture['teams']['home']['id'], fixture['teams']['home']['name'], fixture['teams']['away']['id'], fixture['teams']['away']['name'], fixture['goals']['home'], fixture['goals']['away']\n",
    "    fixture_date_converted = datetime.fromtimestamp(fixture_date).strftime('%Y-%m-%d %H:%M:%S')\n",
    "    execute_query(f\"INSERT IGNORE INTO leagues (id, name) VALUES ({league_id}, '{league_name}')\", False)\n",
    "    execute_query(f\"INSERT IGNORE INTO teams (id, name) VALUES ({home_id}, '{home_name}')\", False)\n",
    "    execute_query(f\"INSERT IGNORE INTO teams (id, name) VALUES ({away_id}, '{away_name}')\", False)\n",
    "    execute_query(f\"INSERT IGNORE INTO matches (id, date, league_id, season, home_id, away_id, home_score, away_score) VALUES ({fixture_id}, '{fixture_date_converted}', {league_id}, {season}, {home_id}, {away_id}, '{home_score}', '{away_score}')\", False)\n",
    "#     print(f\"{fixture['teams']['home']['name']} {fixture['goals']['home']} x {fixture['goals']['away']} {fixture['teams']['away']['name']}\")"
   ]
  },
  {
   "cell_type": "code",
   "execution_count": 7,
   "metadata": {},
   "outputs": [
    {
     "name": "stdout",
     "output_type": "stream",
     "text": [
      "Loading fixtures for the 2022 season: 169/170\n"
     ]
    }
   ],
   "source": [
    "for season in range(start_season, end_season):\n",
    "    fixtures = get_league_season_fixtures(season)\n",
    "    for index, fixture in enumerate(fixtures):\n",
    "        clear_output(wait=True)\n",
    "        print(f\"Loading fixtures for the {season} season: {index}/{len(fixtures)}\")\n",
    "        add_match_info_to_db(fixture)"
   ]
  },
  {
   "cell_type": "code",
   "execution_count": 11,
   "metadata": {},
   "outputs": [
    {
     "name": "stderr",
     "output_type": "stream",
     "text": [
      "C:\\Users\\caiog\\anaconda3\\lib\\site-packages\\pandas\\io\\sql.py:761: UserWarning: pandas only support SQLAlchemy connectable(engine/connection) ordatabase string URI or sqlite3 DBAPI2 connectionother DBAPI2 objects are not tested, please consider using SQLAlchemy\n",
      "  warnings.warn(\n"
     ]
    }
   ],
   "source": [
    "fixtures_df = execute_query(f\"SELECT m.id, m.date, m.season, l.name AS league, ht.name as home_team, at.name as away_team, m.home_score, m.away_score FROM matches AS m INNER JOIN teams AS ht ON (m.home_id = ht.id) INNER JOIN teams AS at ON (m.away_id = at.id) INNER JOIN leagues AS l ON (m.league_id = l.id) WHERE m.season = 2022 ORDER BY m.date DESC\")"
   ]
  },
  {
   "cell_type": "code",
   "execution_count": 13,
   "metadata": {
    "scrolled": true
   },
   "outputs": [
    {
     "data": {
      "text/html": [
       "<div>\n",
       "<style scoped>\n",
       "    .dataframe tbody tr th:only-of-type {\n",
       "        vertical-align: middle;\n",
       "    }\n",
       "\n",
       "    .dataframe tbody tr th {\n",
       "        vertical-align: top;\n",
       "    }\n",
       "\n",
       "    .dataframe thead th {\n",
       "        text-align: right;\n",
       "    }\n",
       "</style>\n",
       "<table border=\"1\" class=\"dataframe\">\n",
       "  <thead>\n",
       "    <tr style=\"text-align: right;\">\n",
       "      <th></th>\n",
       "      <th>id</th>\n",
       "      <th>date</th>\n",
       "      <th>season</th>\n",
       "      <th>league</th>\n",
       "      <th>home_team</th>\n",
       "      <th>away_team</th>\n",
       "      <th>home_score</th>\n",
       "      <th>away_score</th>\n",
       "    </tr>\n",
       "  </thead>\n",
       "  <tbody>\n",
       "    <tr>\n",
       "      <th>0</th>\n",
       "      <td>838154</td>\n",
       "      <td>2022-07-18 20:00:00</td>\n",
       "      <td>2022</td>\n",
       "      <td>Serie A (Brazil)</td>\n",
       "      <td>Palmeiras</td>\n",
       "      <td>Cuiaba</td>\n",
       "      <td>1</td>\n",
       "      <td>0</td>\n",
       "    </tr>\n",
       "    <tr>\n",
       "      <th>1</th>\n",
       "      <td>838151</td>\n",
       "      <td>2022-07-17 19:00:00</td>\n",
       "      <td>2022</td>\n",
       "      <td>Serie A (Brazil)</td>\n",
       "      <td>America MG</td>\n",
       "      <td>Bragantino</td>\n",
       "      <td>0</td>\n",
       "      <td>3</td>\n",
       "    </tr>\n",
       "    <tr>\n",
       "      <th>2</th>\n",
       "      <td>838155</td>\n",
       "      <td>2022-07-17 18:00:00</td>\n",
       "      <td>2022</td>\n",
       "      <td>Serie A (Brazil)</td>\n",
       "      <td>Botafogo RJ</td>\n",
       "      <td>Atletico-MG</td>\n",
       "      <td>0</td>\n",
       "      <td>1</td>\n",
       "    </tr>\n",
       "    <tr>\n",
       "      <th>3</th>\n",
       "      <td>838158</td>\n",
       "      <td>2022-07-17 18:00:00</td>\n",
       "      <td>2022</td>\n",
       "      <td>Serie A (Brazil)</td>\n",
       "      <td>Atletico GO</td>\n",
       "      <td>Fortaleza</td>\n",
       "      <td>0</td>\n",
       "      <td>1</td>\n",
       "    </tr>\n",
       "    <tr>\n",
       "      <th>4</th>\n",
       "      <td>838153</td>\n",
       "      <td>2022-07-17 16:00:00</td>\n",
       "      <td>2022</td>\n",
       "      <td>Serie A (Brazil)</td>\n",
       "      <td>Sao Paulo</td>\n",
       "      <td>Fluminense</td>\n",
       "      <td>2</td>\n",
       "      <td>2</td>\n",
       "    </tr>\n",
       "  </tbody>\n",
       "</table>\n",
       "</div>"
      ],
      "text/plain": [
       "       id                date  season            league    home_team  \\\n",
       "0  838154 2022-07-18 20:00:00    2022  Serie A (Brazil)    Palmeiras   \n",
       "1  838151 2022-07-17 19:00:00    2022  Serie A (Brazil)   America MG   \n",
       "2  838155 2022-07-17 18:00:00    2022  Serie A (Brazil)  Botafogo RJ   \n",
       "3  838158 2022-07-17 18:00:00    2022  Serie A (Brazil)  Atletico GO   \n",
       "4  838153 2022-07-17 16:00:00    2022  Serie A (Brazil)    Sao Paulo   \n",
       "\n",
       "     away_team  home_score  away_score  \n",
       "0       Cuiaba           1           0  \n",
       "1   Bragantino           0           3  \n",
       "2  Atletico-MG           0           1  \n",
       "3    Fortaleza           0           1  \n",
       "4   Fluminense           2           2  "
      ]
     },
     "execution_count": 13,
     "metadata": {},
     "output_type": "execute_result"
    }
   ],
   "source": [
    "fixtures_df.head()"
   ]
  },
  {
   "cell_type": "code",
   "execution_count": null,
   "metadata": {},
   "outputs": [],
   "source": []
  }
 ],
 "metadata": {
  "kernelspec": {
   "display_name": "Python 3 (ipykernel)",
   "language": "python",
   "name": "python3"
  },
  "language_info": {
   "codemirror_mode": {
    "name": "ipython",
    "version": 3
   },
   "file_extension": ".py",
   "mimetype": "text/x-python",
   "name": "python",
   "nbconvert_exporter": "python",
   "pygments_lexer": "ipython3",
   "version": "3.9.12"
  }
 },
 "nbformat": 4,
 "nbformat_minor": 4
}
